{
  "nbformat": 4,
  "nbformat_minor": 0,
  "metadata": {
    "colab": {
      "name": "scikitVsKeras.ipynb",
      "provenance": [],
      "collapsed_sections": []
    },
    "kernelspec": {
      "name": "python3",
      "display_name": "Python 3"
    }
  },
  "cells": [
    {
      "cell_type": "markdown",
      "metadata": {
        "id": "LylhHidLoyTN"
      },
      "source": [
        "# Single Regression and Multivariable Regression in SciKit-Learn vs Keras\n",
        "In this notebook, we compare single and multiple linear regression models in Scikit Learn and Keras.  It seems a little odd to perform a linear regression with Keras, but the purpose of this script is to gain an understanding of the design of a neural network.  Linear regression models are generally easy to create and to make in libraries like sklearn, which makes it easy to verify how correct the answer from the Keras NN is."
      ]
    },
    {
      "cell_type": "markdown",
      "metadata": {
        "id": "c0vJcvyho7Yi"
      },
      "source": [
        "## 1. Single Variable Regression\n",
        "This sections compares the single variable regression models of Keras and Scikit-Learn. "
      ]
    },
    {
      "cell_type": "code",
      "metadata": {
        "id": "qQYJb7Nt6_ht",
        "colab": {
          "base_uri": "https://localhost:8080/",
          "height": 283
        },
        "outputId": "ffc23abe-ae30-4222-ef35-cdf9aaf923bd"
      },
      "source": [
        "# Generate synthetic dataset\n",
        "import numpy as np\n",
        "import matplotlib.pyplot as plt\n",
        "n_samples = 30\n",
        "train_x = np.linspace(0,20,n_samples)\n",
        "train_y = 3.7 * train_x + 14 + 4 * np.random.randn(n_samples)\n",
        "plt.plot(train_x, train_y,'o')"
      ],
      "execution_count": 1,
      "outputs": [
        {
          "output_type": "execute_result",
          "data": {
            "text/plain": [
              "[<matplotlib.lines.Line2D at 0x7fcf661ac400>]"
            ]
          },
          "metadata": {
            "tags": []
          },
          "execution_count": 1
        },
        {
          "output_type": "display_data",
          "data": {
            "image/png": "[encoded data removed]",
            "text/plain": [
              "<Figure size 432x288 with 1 Axes>"
            ]
          },
          "metadata": {
            "tags": [],
            "needs_background": "light"
          }
        }
      ]
    },
    {
      "cell_type": "markdown",
      "metadata": {
        "id": "p9FNVnKQpCQe"
      },
      "source": [
        "### Scikit-Learn Model\n"
      ]
    },
    {
      "cell_type": "code",
      "metadata": {
        "id": "1Qfymvfk7bH9",
        "colab": {
          "base_uri": "https://localhost:8080/"
        },
        "outputId": "f7571e76-28f5-42c0-a192-900ee5d6f469"
      },
      "source": [
        "# Create regression model with Scikit-learn\n",
        "from sklearn import linear_model\n",
        "from sklearn.metrics import mean_squared_error, r2_score\n",
        "\n",
        "# Preprocess the data for LinearRegression Model\n",
        "sklearn_input_value = train_x.reshape(-1,1)\n",
        "sklearn_output_value = train_y.reshape(-1,1)\n",
        "\n",
        "# Create and fit the model\n",
        "linreg = linear_model.LinearRegression()\n",
        "linreg.fit(sklearn_input_value, sklearn_output_value)\n",
        "\n",
        "# Print m and b to terminal\n",
        "print(\"y-intercept: b = \",linreg.intercept_)\n",
        "print(\"slope: m = \",linreg.coef_)"
      ],
      "execution_count": 2,
      "outputs": [
        {
          "output_type": "stream",
          "text": [
            "y-intercept: b =  [12.13705991]\n",
            "slope: m =  [[3.79721056]]\n"
          ],
          "name": "stdout"
        }
      ]
    },
    {
      "cell_type": "markdown",
      "metadata": {
        "id": "4tlq26Rgowqb"
      },
      "source": [
        "Assessing the model with Root Mean Square Error:\n",
        "$$RMSE = \\sqrt{\\frac{1}{N}\\sum{[f(x_i)-x_i]^2}}$$ "
      ]
    },
    {
      "cell_type": "code",
      "metadata": {
        "colab": {
          "base_uri": "https://localhost:8080/"
        },
        "id": "VXTJMXKWotHh",
        "outputId": "94626140-13e9-4a0a-e252-609f489ce7cc"
      },
      "source": [
        "# Hand-calculated RMSE\n",
        "predictions = linreg.predict(sklearn_input_value)\n",
        "squareErrorSum = np.sum((predictions - sklearn_output_value)**2)\n",
        "meanSquareErrorSum = squareErrorSum/n_samples\n",
        "RMSE = np.sqrt(meanSquareErrorSum)\n",
        "print(\"Hand-Calculated Score (RMSE): \",RMSE)\n",
        "\n",
        "# RMSE from sklearn\n",
        "score = np.sqrt(mean_squared_error(predictions,sklearn_output_value))\n",
        "print(\"Sklearn Score (RMSE): {}\".format(score))"
      ],
      "execution_count": 3,
      "outputs": [
        {
          "output_type": "stream",
          "text": [
            "Hand-Calculated Score (RMSE):  3.308046215204908\n",
            "Sklearn Score (RMSE): 3.308046215204908\n"
          ],
          "name": "stdout"
        }
      ]
    },
    {
      "cell_type": "markdown",
      "metadata": {
        "id": "9xxhVsnhc2o2"
      },
      "source": [
        "### Keras Model\n",
        "A single linear regression neural network can be thought of as a simple 1 layer network with one input node and one output node:\n",
        "\n",
        "<img src=\"https://drive.google.com/uc?id=1oYQHPdAGZ05vSeVeBwOb5Ee-nIM66XIl\" width=\"400\" height=\"200\" />\n",
        "\n",
        "For this model, adam is uses since it uses stochastic gradient descent for its optimization.\n",
        "\n"
      ]
    },
    {
      "cell_type": "code",
      "metadata": {
        "id": "GeGW-nXm9Qxq",
        "colab": {
          "base_uri": "https://localhost:8080/"
        },
        "outputId": "6e3cd122-567a-4f70-f6d6-2b064f437dac"
      },
      "source": [
        "import keras as ks\n",
        "from keras.models import Sequential\n",
        "from keras.layers import Dense, Activation\n",
        "import numpy as np\n",
        "\n",
        "# build the model\n",
        "# The Sequntial model is used for cases where each LAYER has one input and\n",
        "# one output.  It is used for most standard NNs, where there is NO branching\n",
        "model = Sequential()\n",
        "# .add(Dense()) method inputs\n",
        "# First argument is \n",
        "# input_dim is number of input layer nodes\n",
        "# Make sure to set the activation function to linear for linear regression\n",
        "model.add(Dense(1,input_dim = 1, activation = 'linear'))\n",
        "\n",
        "# Compile the model and summarize\n",
        "model.compile(loss = 'mean_squared_error', optimizer = 'adam', metrics = ['mse'])\n",
        "model.summary()"
      ],
      "execution_count": 4,
      "outputs": [
        {
          "output_type": "stream",
          "text": [
            "Model: \"sequential\"\n",
            "_________________________________________________________________\n",
            "Layer (type)                 Output Shape              Param #   \n",
            "=================================================================\n",
            "dense (Dense)                (None, 1)                 2         \n",
            "=================================================================\n",
            "Total params: 2\n",
            "Trainable params: 2\n",
            "Non-trainable params: 0\n",
            "_________________________________________________________________\n"
          ],
          "name": "stdout"
        }
      ]
    },
    {
      "cell_type": "code",
      "metadata": {
        "id": "NcbfNUw5KPzR"
      },
      "source": [
        "# Train the model\n",
        "epochs = 20000\n",
        "hist = model.fit(train_x,train_y, verbose = 0,epochs = epochs)"
      ],
      "execution_count": 5,
      "outputs": []
    },
    {
      "cell_type": "code",
      "metadata": {
        "id": "MF_whppl-TfS",
        "colab": {
          "base_uri": "https://localhost:8080/",
          "height": 295
        },
        "outputId": "f3f450f8-9927-4de2-d39a-502b82949efd"
      },
      "source": [
        "# Visualize the loss\n",
        "train_loss = hist.history['loss']\n",
        "xc = range(epochs)\n",
        "plt.plot(xc,train_loss)\n",
        "plt.xlabel('num of Epochs')\n",
        "plt.ylabel('loss')\n",
        "plt.title('train loss')\n",
        "plt.grid(True)\n",
        "plt.style.use(['ggplot'])"
      ],
      "execution_count": 6,
      "outputs": [
        {
          "output_type": "display_data",
          "data": {
            "image/png": "[encoded data removed]",
            "text/plain": [
              "<Figure size 432x288 with 1 Axes>"
            ]
          },
          "metadata": {
            "tags": [],
            "needs_background": "light"
          }
        }
      ]
    },
    {
      "cell_type": "code",
      "metadata": {
        "id": "TASRt1xqB6Jc",
        "colab": {
          "base_uri": "https://localhost:8080/"
        },
        "outputId": "8abb5e22-5473-4353-d530-93f4ac6e4699"
      },
      "source": [
        "# Print the weights and biases of all the neurons in the Neural Network\n",
        "# Does not post the values of the output layer\n",
        "# Layer number = 0 is the input layer\n",
        "for layerNum, layer in enumerate(model.layers):\n",
        "  print(\"Layer Number = \", layerNum)\n",
        "  print(\"Weight Values = \", layer.get_weights()[0])\n",
        "  print(\"Bias Values = \", layer.get_weights()[1])"
      ],
      "execution_count": 7,
      "outputs": [
        {
          "output_type": "stream",
          "text": [
            "Layer Number =  0\n",
            "Weight Values =  [[3.8003852]]\n",
            "Bias Values =  [12.094119]\n"
          ],
          "name": "stdout"
        }
      ]
    },
    {
      "cell_type": "code",
      "metadata": {
        "id": "4OGc9qiJZxMH",
        "colab": {
          "base_uri": "https://localhost:8080/",
          "height": 282
        },
        "outputId": "61811f7d-0d41-41fc-aec6-f0d80ffee16d"
      },
      "source": [
        "pred = model.predict(train_x)\n",
        "plt.plot(train_x, pred, 'b')\n",
        "plt.scatter(train_x, train_y)\n",
        "plt.legend((\"Model\",\"Raw Data\"))"
      ],
      "execution_count": 8,
      "outputs": [
        {
          "output_type": "execute_result",
          "data": {
            "text/plain": [
              "<matplotlib.legend.Legend at 0x7fcf2029ac18>"
            ]
          },
          "metadata": {
            "tags": []
          },
          "execution_count": 8
        },
        {
          "output_type": "display_data",
          "data": {
            "image/png": "[encoded data removed]",
            "text/plain": [
              "<Figure size 432x288 with 1 Axes>"
            ]
          },
          "metadata": {
            "tags": []
          }
        }
      ]
    },
    {
      "cell_type": "code",
      "metadata": {
        "colab": {
          "base_uri": "https://localhost:8080/"
        },
        "id": "vu33VyUSUVrn",
        "outputId": "558cbe27-2fa3-4686-ec93-14039ae88e02"
      },
      "source": [
        "# Do a quick sample prediction.\n",
        "# This isn't too interesting, because it is just plugging into y = mx+b\n",
        "test_x = [15]\n",
        "pred = model.predict(test_x)\n",
        "print(pred)"
      ],
      "execution_count": 9,
      "outputs": [
        {
          "output_type": "stream",
          "text": [
            "[[69.0999]]\n"
          ],
          "name": "stdout"
        }
      ]
    },
    {
      "cell_type": "markdown",
      "metadata": {
        "id": "qa1qiurop2LW"
      },
      "source": [
        "## 2. Multivariate Regression\n",
        "We are aiming to predict the price based on the number of bedrooms and the living square foot space.  This equation can be modeled as follows:\n",
        "$$Y = m_1X_1 + m_2X_2 + b$$ \n",
        "Where $X_1$ = number of bedrooms, $X_2$ = sqft_living, $m_n$ is the corresbonding weight or slope, and b is the y-intercept."
      ]
    },
    {
      "cell_type": "code",
      "metadata": {
        "id": "rZ2u_Utbd0Hk",
        "colab": {
          "resources": {
            "http://localhost:8080/nbextensions/google.colab/files.js": {
              "data": "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",
              "ok": true,
              "headers": [
                [
                  "content-type",
                  "application/javascript"
                ]
              ],
              "status": 200,
              "status_text": ""
            }
          },
          "base_uri": "https://localhost:8080/",
          "height": 72
        },
        "outputId": "b3659c19-29ff-4fcb-def4-d5b95d72095b"
      },
      "source": [
        "# Allows you to upload file from local computer\n",
        "from google.colab import files  \n",
        "uploaded = files.upload()"
      ],
      "execution_count": 10,
      "outputs": [
        {
          "output_type": "display_data",
          "data": {
            "text/html": [
              "\n",
              "     <input type=\"file\" id=\"files-dfa16ad6-c7c8-46c8-8f60-bd5242f7dc8d\" name=\"files[]\" multiple disabled\n",
              "        style=\"border:none\" />\n",
              "     <output id=\"result-dfa16ad6-c7c8-46c8-8f60-bd5242f7dc8d\">\n",
              "      Upload widget is only available when the cell has been executed in the\n",
              "      current browser session. Please rerun this cell to enable.\n",
              "      </output>\n",
              "      <script src=\"/nbextensions/google.colab/files.js\"></script> "
            ],
            "text/plain": [
              "<IPython.core.display.HTML object>"
            ]
          },
          "metadata": {
            "tags": []
          }
        },
        {
          "output_type": "stream",
          "text": [
            "Saving 00 kc_house_data.csv to 00 kc_house_data.csv\n"
          ],
          "name": "stdout"
        }
      ]
    },
    {
      "cell_type": "code",
      "metadata": {
        "id": "aHlbCZyerFJd",
        "colab": {
          "base_uri": "https://localhost:8080/"
        },
        "outputId": "55aa08c3-5050-4c32-c617-3b33e843fca4"
      },
      "source": [
        "# Extract pertinant data from the csv\n",
        "import io\n",
        "import pandas as pd\n",
        "\n",
        "data = pd.read_csv(io.BytesIO(uploaded['00 kc_house_data.csv'])) \n",
        "print(\"Raw Data: \")\n",
        "print(data.head())\n",
        "features = data[['bedrooms','sqft_living']]\n",
        "print('#########')\n",
        "print(\"Features: \")\n",
        "print(type(features))\n",
        "print(features[0:5])\n",
        "print('#########')\n",
        "print(\"Label: \")\n",
        "label = (data['price'])\n",
        "label[0:5]"
      ],
      "execution_count": 11,
      "outputs": [
        {
          "output_type": "stream",
          "text": [
            "Raw Data: \n",
            "           id             date     price  ...     long  sqft_living15  sqft_lot15\n",
            "0  7129300520  20141013T000000  221900.0  ... -122.257           1340        5650\n",
            "1  6414100192  20141209T000000  538000.0  ... -122.319           1690        7639\n",
            "2  5631500400  20150225T000000  180000.0  ... -122.233           2720        8062\n",
            "3  2487200875  20141209T000000  604000.0  ... -122.393           1360        5000\n",
            "4  1954400510  20150218T000000  510000.0  ... -122.045           1800        7503\n",
            "\n",
            "[5 rows x 21 columns]\n",
            "#########\n",
            "Features: \n",
            "<class 'pandas.core.frame.DataFrame'>\n",
            "   bedrooms  sqft_living\n",
            "0         3         1180\n",
            "1         3         2570\n",
            "2         2          770\n",
            "3         4         1960\n",
            "4         3         1680\n",
            "#########\n",
            "Label: \n"
          ],
          "name": "stdout"
        },
        {
          "output_type": "execute_result",
          "data": {
            "text/plain": [
              "0    221900.0\n",
              "1    538000.0\n",
              "2    180000.0\n",
              "3    604000.0\n",
              "4    510000.0\n",
              "Name: price, dtype: float64"
            ]
          },
          "metadata": {
            "tags": []
          },
          "execution_count": 11
        }
      ]
    },
    {
      "cell_type": "markdown",
      "metadata": {
        "id": "JD5FIpowx1or"
      },
      "source": [
        "Feature scaling method - Rescaling (min-max normalization):\n",
        "$$x' = {x-min(x)\\over max(x)-min(x)} $$\n",
        "\n",
        "This normalization method scales all values between 0 and 1. You can hard code this in python as:\n",
        "```python\n",
        "featuresMin = features.min(axis=0)\n",
        "featuresMax = features.max(axis=0)\n",
        "featuresScale2 = (features - featuresMin)/(featuresMax - featuresMin)\n",
        "```\n",
        "\n",
        "Scikit-Learn's preprocessing library does it the way shown above, but it is easier to use the preprocessing library and minmax_scale method instead of using the equation."
      ]
    },
    {
      "cell_type": "code",
      "metadata": {
        "id": "uLg1_7aLkt5P"
      },
      "source": [
        "from sklearn import preprocessing\n",
        "\n",
        "# Scales the values between 0 and 1\n",
        "scaled_features = preprocessing.minmax_scale(features)\n",
        "scaled_label = preprocessing.minmax_scale(label)"
      ],
      "execution_count": 12,
      "outputs": []
    },
    {
      "cell_type": "markdown",
      "metadata": {
        "id": "klglvDq4_OCL"
      },
      "source": [
        "### Multivariate regression with Scikit-Learn"
      ]
    },
    {
      "cell_type": "code",
      "metadata": {
        "id": "uF3Zfya_lOxG",
        "colab": {
          "base_uri": "https://localhost:8080/"
        },
        "outputId": "c1a74c00-f384-4a49-b0df-96deb035b496"
      },
      "source": [
        "from sklearn import linear_model\n",
        "\n",
        "multi_regression_model = linear_model.LinearRegression()\n",
        "multi_regression_model.fit(scaled_features, scaled_label)\n",
        "\n",
        "print (multi_regression_model.intercept_)\n",
        "print (multi_regression_model.coef_)"
      ],
      "execution_count": 13,
      "outputs": [
        {
          "output_type": "stream",
          "text": [
            "0.012526488915412387\n",
            "[-0.24697745  0.54555018]\n"
          ],
          "name": "stdout"
        }
      ]
    },
    {
      "cell_type": "markdown",
      "metadata": {
        "id": "mYwkIsXyPzHv"
      },
      "source": [
        "### Multivariate regression with Keras\n",
        "A two variable (predictor) linear regression neural network can be thought of as a simple 1 layer network with two input nodes and one output node:\n",
        "\n",
        "<img src=\"https://drive.google.com/uc?id=1AtKNIpJ0z9-0Y7f-ah0c45VXP-qIT7Ll\" width=\"400\" height=\"200\" />\n"
      ]
    },
    {
      "cell_type": "code",
      "metadata": {
        "id": "rCO10rhbK0Rl",
        "colab": {
          "base_uri": "https://localhost:8080/"
        },
        "outputId": "0a4319e4-3e18-4818-de41-91fcbae162b6"
      },
      "source": [
        "import keras as ks\n",
        "from keras.models import Sequential\n",
        "from keras.layers import Dense, Activation\n",
        "\n",
        "mr_NN_model = Sequential()\n",
        "# Only difference for multivariate regression is number of input dimension\n",
        "# Depending on the number of independent variables, you change the value of the\n",
        "# input_dim parameter\n",
        "mr_NN_model.add(Dense(1,input_dim = 2, activation = 'linear'))\n",
        "\n",
        "# Compile the model and summarize\n",
        "mr_NN_model.compile(loss = 'mean_squared_error', optimizer = 'adam', metrics = ['mse'])\n",
        "mr_NN_model.summary()"
      ],
      "execution_count": 14,
      "outputs": [
        {
          "output_type": "stream",
          "text": [
            "Model: \"sequential_1\"\n",
            "_________________________________________________________________\n",
            "Layer (type)                 Output Shape              Param #   \n",
            "=================================================================\n",
            "dense_1 (Dense)              (None, 1)                 3         \n",
            "=================================================================\n",
            "Total params: 3\n",
            "Trainable params: 3\n",
            "Non-trainable params: 0\n",
            "_________________________________________________________________\n"
          ],
          "name": "stdout"
        }
      ]
    },
    {
      "cell_type": "code",
      "metadata": {
        "id": "g2iTEQQDQBQv"
      },
      "source": [
        "mr_epochs = 20\n",
        "mr_hist = mr_NN_model.fit(scaled_features,scaled_label, verbose = 0,epochs =mr_epochs)"
      ],
      "execution_count": 15,
      "outputs": []
    },
    {
      "cell_type": "code",
      "metadata": {
        "id": "G51X5t8VQjk0",
        "colab": {
          "base_uri": "https://localhost:8080/",
          "height": 299
        },
        "outputId": "4ccc6031-b1cb-4591-d846-1243e33e159b"
      },
      "source": [
        "# Visualize the loss\n",
        "train_loss = mr_hist.history['loss']\n",
        "xc = range(mr_epochs)\n",
        "plt.plot(xc,train_loss)\n",
        "plt.xlabel('num of Epochs')\n",
        "plt.ylabel('loss')\n",
        "plt.title('train loss')\n",
        "plt.grid(True)\n",
        "plt.style.use(['ggplot'])\n"
      ],
      "execution_count": 16,
      "outputs": [
        {
          "output_type": "display_data",
          "data": {
            "image/png": "[encoded data removed]",
            "text/plain": [
              "<Figure size 432x288 with 1 Axes>"
            ]
          },
          "metadata": {
            "tags": []
          }
        }
      ]
    },
    {
      "cell_type": "code",
      "metadata": {
        "id": "HUS92WiuXZ0J",
        "colab": {
          "base_uri": "https://localhost:8080/"
        },
        "outputId": "8cc7eb4d-5f50-4dbb-f500-fe3deb249991"
      },
      "source": [
        "for layerNum, layer in enumerate(mr_NN_model.layers):\n",
        "  print(\"Layer Number = \", layerNum)\n",
        "  print(\"Weight Values = \", layer.get_weights()[0])\n",
        "  print(\"Bias Values = \", layer.get_weights()[1])"
      ],
      "execution_count": 17,
      "outputs": [
        {
          "output_type": "stream",
          "text": [
            "Layer Number =  0\n",
            "Weight Values =  [[-0.25005305]\n",
            " [ 0.54242593]]\n",
            "Bias Values =  [0.01385049]\n"
          ],
          "name": "stdout"
        }
      ]
    }
  ]
}